{
  "cells": [
    {
      "cell_type": "code",
      "execution_count": 1,
      "metadata": {
        "id": "isqiufhJezWn"
      },
      "outputs": [],
      "source": [
        "import numpy as np\n",
        "import cv2\n",
        "from tensorflow.keras.layers import Input, Flatten, Dense, Dropout\n",
        "from tensorflow.keras.models import Model\n",
        "from tensorflow.keras.applications import DenseNet201\n",
        "from tensorflow.keras.optimizers import Adam\n",
        "import matplotlib.pyplot as plt\n",
        "from sklearn.metrics import classification_report, confusion_matrix\n",
        "import seaborn as sns\n",
        "from tensorflow.keras.preprocessing.image import ImageDataGenerator\n",
        "from sklearn.model_selection import train_test_split\n",
        "from tensorflow.keras.utils import to_categorical\n",
        "from sklearn.preprocessing import LabelEncoder\n",
        "import pandas as pd\n",
        "import tensorflow as tf"
      ]
    },
    {
      "cell_type": "code",
      "execution_count": 2,
      "metadata": {
        "id": "n-PhmMPJfqV4"
      },
      "outputs": [],
      "source": [
        "# **Loading Dataset**\n",
        "data_train = np.load('/content/train_set.npz', allow_pickle=True)\n",
        "x_train = data_train['arr_0']\n",
        "y_train = data_train['arr_1']\n",
        "\n",
        "data_test = np.load('/content/train_set.npz', allow_pickle=True)\n",
        "x_test = data_test['arr_0']\n",
        "y_test = data_test['arr_1']"
      ]
    },
    {
      "cell_type": "code",
      "execution_count": 3,
      "metadata": {
        "id": "ZPmRcrtCftCk",
        "colab": {
          "base_uri": "https://localhost:8080/"
        },
        "outputId": "f0165719-a6eb-43e3-b255-950357773fbd"
      },
      "outputs": [
        {
          "output_type": "stream",
          "name": "stdout",
          "text": [
            "1440\n",
            "1440\n",
            "1512\n",
            "1512\n",
            "360\n",
            "360\n",
            "432\n",
            "432\n"
          ]
        }
      ],
      "source": [
        "train_data_generator = ImageDataGenerator(\n",
        "    rotation_range=60,\n",
        "    width_shift_range=0.1,\n",
        "    height_shift_range=0.1,\n",
        "    zoom_range=0.1,\n",
        "    horizontal_flip=True,\n",
        "    vertical_flip=True,  # Vertical flip might not make sense depending on your dataset\n",
        "\n",
        ")\n",
        "\n",
        "\n",
        "x = list(x_train)\n",
        "y = list(y_train)\n",
        "\n",
        "x_aug_train = []\n",
        "y_aug_train = []\n",
        "\n",
        "for (i, v) in enumerate(y):\n",
        "    x_img = x[i]\n",
        "    x_img = np.array(x_img)\n",
        "    x_img = np.expand_dims(x_img, axis=0)\n",
        "    aug_iter = train_data_generator.flow(x_img, batch_size=1, shuffle=True)\n",
        "    for j in range(20):\n",
        "        aug_image = next(aug_iter)[0].astype('uint8')\n",
        "        x_aug_train.append(aug_image)\n",
        "        y_aug_train.append(v)\n",
        "print(len(x_aug_train))\n",
        "print(len(y_aug_train))\n",
        "\n",
        "x_train = x + x_aug_train\n",
        "y_train = y + y_aug_train\n",
        "print(len(x_train))\n",
        "print(len(y_train))\n",
        "\n",
        "test_data_generator = ImageDataGenerator(rotation_range=60,\n",
        "                                    width_shift_range=0.1,\n",
        "                                    height_shift_range=0.1,\n",
        "#                                     brightness_range=[0.5, 1.5],\n",
        "                                    zoom_range=0.1,\n",
        "                                    horizontal_flip=True,\n",
        "                                    vertical_flip=True)\n",
        "\n",
        "x = list(x_test)\n",
        "y = list(y_test)\n",
        "\n",
        "x_aug_test = []\n",
        "y_aug_test = []\n",
        "\n",
        "for (i, v) in enumerate(y):\n",
        "    x_img = x[i]\n",
        "    x_img = np.array(x_img)\n",
        "    x_img = np.expand_dims(x_img, axis=0)\n",
        "    aug_iter = test_data_generator.flow(x_img, batch_size=1, shuffle=True)\n",
        "    for j in range(5):\n",
        "        aug_image = next(aug_iter)[0].astype('uint8')\n",
        "        x_aug_test.append(aug_image)\n",
        "        y_aug_test.append(v)\n",
        "print(len(x_aug_test))\n",
        "print(len(y_aug_test))\n",
        "\n",
        "x_test = x + x_aug_test\n",
        "y_test = y + y_aug_test\n",
        "print(len(x_test))\n",
        "print(len(y_test))"
      ]
    },
    {
      "cell_type": "code",
      "execution_count": 5,
      "metadata": {
        "id": "hiks3caQgVxy"
      },
      "outputs": [],
      "source": [
        "# **Data Preprocessing**\n",
        "x_train = np.array(x_train)\n",
        "x_test = np.array(x_test)\n",
        "\n",
        "# Initialize new arrays for resized images\n",
        "x_train_resized = np.empty((x_train.shape[0], 224, 224, 3), dtype=np.float32)\n",
        "x_test_resized = np.empty((x_test.shape[0], 224, 224, 3), dtype=np.float32)\n",
        "\n",
        "\n",
        "for i in range(len(x_train)):\n",
        "    img = x_train[i]\n",
        "    img = cv2.resize(img, (224, 224))  # DenseNet201 requires 224x224 input size\n",
        "    img = cv2.cvtColor(img, cv2.COLOR_BGR2RGB)\n",
        "    x_train_resized[i] = img\n",
        "\n",
        "for i in range(len(x_test)):\n",
        "    img = x_test[i]\n",
        "    img = cv2.resize(img, (224, 224))\n",
        "    img = cv2.cvtColor(img, cv2.COLOR_BGR2RGB)\n",
        "    x_test_resized[i] = img\n",
        "\n",
        "# Normalize the images\n",
        "x_train_resized /= 255.0\n",
        "x_test_resized /= 255.0\n",
        "\n",
        "# Use the resized images for training and testing\n",
        "x_train = x_train_resized\n",
        "x_test = x_test_resized\n",
        "\n",
        "# Encoding labels\n",
        "label_encoder = LabelEncoder()\n",
        "y_train = label_encoder.fit_transform(y_train)\n",
        "y_test = label_encoder.fit_transform(y_test)\n",
        "\n",
        "y_train = to_categorical(y_train)\n",
        "y_test = to_categorical(y_test)\n"
      ]
    },
    {
      "cell_type": "code",
      "execution_count": 6,
      "metadata": {
        "id": "DK7P0Rn4gBFN"
      },
      "outputs": [],
      "source": [
        "# **Model Defining**\n",
        "def create_densenet201_model(input_shape=(224, 224, 3)):\n",
        "    base_model = DenseNet201(weights='imagenet', include_top=False, input_shape=input_shape)\n",
        "    base_model.trainable = False  # Freeze the base model\n",
        "\n",
        "    inputs = Input(shape=input_shape)\n",
        "    x = base_model(inputs, training=False)\n",
        "    x = Flatten()(x)\n",
        "    x = Dropout(0.5)(x)\n",
        "    x = Dense(64, activation='relu')(x)\n",
        "    outputs = Dense(2, activation='softmax')(x)\n",
        "\n",
        "    model = Model(inputs, outputs)\n",
        "    optimizer = Adam(3.15e-5)\n",
        "    model.compile(optimizer=optimizer, loss='categorical_crossentropy', metrics=['accuracy'])\n",
        "    return model\n"
      ]
    },
    {
      "cell_type": "code",
      "execution_count": 7,
      "metadata": {
        "colab": {
          "base_uri": "https://localhost:8080/",
          "height": 376
        },
        "id": "I0r3UMGMgDnT",
        "outputId": "2149b739-b4ff-45aa-d706-3622c9280ed3"
      },
      "outputs": [
        {
          "output_type": "stream",
          "name": "stdout",
          "text": [
            "Downloading data from https://storage.googleapis.com/tensorflow/keras-applications/densenet/densenet201_weights_tf_dim_ordering_tf_kernels_notop.h5\n",
            "\u001b[1m74836368/74836368\u001b[0m \u001b[32m━━━━━━━━━━━━━━━━━━━━\u001b[0m\u001b[37m\u001b[0m \u001b[1m0s\u001b[0m 0us/step\n"
          ]
        },
        {
          "output_type": "display_data",
          "data": {
            "text/plain": [
              "\u001b[1mModel: \"functional\"\u001b[0m\n"
            ],
            "text/html": [
              "<pre style=\"white-space:pre;overflow-x:auto;line-height:normal;font-family:Menlo,'DejaVu Sans Mono',consolas,'Courier New',monospace\"><span style=\"font-weight: bold\">Model: \"functional\"</span>\n",
              "</pre>\n"
            ]
          },
          "metadata": {}
        },
        {
          "output_type": "display_data",
          "data": {
            "text/plain": [
              "┏━━━━━━━━━━━━━━━━━━━━━━━━━━━━━━━━━━━━━━┳━━━━━━━━━━━━━━━━━━━━━━━━━━━━━┳━━━━━━━━━━━━━━━━━┓\n",
              "┃\u001b[1m \u001b[0m\u001b[1mLayer (type)                        \u001b[0m\u001b[1m \u001b[0m┃\u001b[1m \u001b[0m\u001b[1mOutput Shape               \u001b[0m\u001b[1m \u001b[0m┃\u001b[1m \u001b[0m\u001b[1m        Param #\u001b[0m\u001b[1m \u001b[0m┃\n",
              "┡━━━━━━━━━━━━━━━━━━━━━━━━━━━━━━━━━━━━━━╇━━━━━━━━━━━━━━━━━━━━━━━━━━━━━╇━━━━━━━━━━━━━━━━━┩\n",
              "│ input_layer_1 (\u001b[38;5;33mInputLayer\u001b[0m)           │ (\u001b[38;5;45mNone\u001b[0m, \u001b[38;5;34m224\u001b[0m, \u001b[38;5;34m224\u001b[0m, \u001b[38;5;34m3\u001b[0m)         │               \u001b[38;5;34m0\u001b[0m │\n",
              "├──────────────────────────────────────┼─────────────────────────────┼─────────────────┤\n",
              "│ densenet201 (\u001b[38;5;33mFunctional\u001b[0m)             │ (\u001b[38;5;45mNone\u001b[0m, \u001b[38;5;34m7\u001b[0m, \u001b[38;5;34m7\u001b[0m, \u001b[38;5;34m1920\u001b[0m)          │      \u001b[38;5;34m18,321,984\u001b[0m │\n",
              "├──────────────────────────────────────┼─────────────────────────────┼─────────────────┤\n",
              "│ flatten (\u001b[38;5;33mFlatten\u001b[0m)                    │ (\u001b[38;5;45mNone\u001b[0m, \u001b[38;5;34m94080\u001b[0m)               │               \u001b[38;5;34m0\u001b[0m │\n",
              "├──────────────────────────────────────┼─────────────────────────────┼─────────────────┤\n",
              "│ dropout (\u001b[38;5;33mDropout\u001b[0m)                    │ (\u001b[38;5;45mNone\u001b[0m, \u001b[38;5;34m94080\u001b[0m)               │               \u001b[38;5;34m0\u001b[0m │\n",
              "├──────────────────────────────────────┼─────────────────────────────┼─────────────────┤\n",
              "│ dense (\u001b[38;5;33mDense\u001b[0m)                        │ (\u001b[38;5;45mNone\u001b[0m, \u001b[38;5;34m64\u001b[0m)                  │       \u001b[38;5;34m6,021,184\u001b[0m │\n",
              "├──────────────────────────────────────┼─────────────────────────────┼─────────────────┤\n",
              "│ dense_1 (\u001b[38;5;33mDense\u001b[0m)                      │ (\u001b[38;5;45mNone\u001b[0m, \u001b[38;5;34m2\u001b[0m)                   │             \u001b[38;5;34m130\u001b[0m │\n",
              "└──────────────────────────────────────┴─────────────────────────────┴─────────────────┘\n"
            ],
            "text/html": [
              "<pre style=\"white-space:pre;overflow-x:auto;line-height:normal;font-family:Menlo,'DejaVu Sans Mono',consolas,'Courier New',monospace\">┏━━━━━━━━━━━━━━━━━━━━━━━━━━━━━━━━━━━━━━┳━━━━━━━━━━━━━━━━━━━━━━━━━━━━━┳━━━━━━━━━━━━━━━━━┓\n",
              "┃<span style=\"font-weight: bold\"> Layer (type)                         </span>┃<span style=\"font-weight: bold\"> Output Shape                </span>┃<span style=\"font-weight: bold\">         Param # </span>┃\n",
              "┡━━━━━━━━━━━━━━━━━━━━━━━━━━━━━━━━━━━━━━╇━━━━━━━━━━━━━━━━━━━━━━━━━━━━━╇━━━━━━━━━━━━━━━━━┩\n",
              "│ input_layer_1 (<span style=\"color: #0087ff; text-decoration-color: #0087ff\">InputLayer</span>)           │ (<span style=\"color: #00d7ff; text-decoration-color: #00d7ff\">None</span>, <span style=\"color: #00af00; text-decoration-color: #00af00\">224</span>, <span style=\"color: #00af00; text-decoration-color: #00af00\">224</span>, <span style=\"color: #00af00; text-decoration-color: #00af00\">3</span>)         │               <span style=\"color: #00af00; text-decoration-color: #00af00\">0</span> │\n",
              "├──────────────────────────────────────┼─────────────────────────────┼─────────────────┤\n",
              "│ densenet201 (<span style=\"color: #0087ff; text-decoration-color: #0087ff\">Functional</span>)             │ (<span style=\"color: #00d7ff; text-decoration-color: #00d7ff\">None</span>, <span style=\"color: #00af00; text-decoration-color: #00af00\">7</span>, <span style=\"color: #00af00; text-decoration-color: #00af00\">7</span>, <span style=\"color: #00af00; text-decoration-color: #00af00\">1920</span>)          │      <span style=\"color: #00af00; text-decoration-color: #00af00\">18,321,984</span> │\n",
              "├──────────────────────────────────────┼─────────────────────────────┼─────────────────┤\n",
              "│ flatten (<span style=\"color: #0087ff; text-decoration-color: #0087ff\">Flatten</span>)                    │ (<span style=\"color: #00d7ff; text-decoration-color: #00d7ff\">None</span>, <span style=\"color: #00af00; text-decoration-color: #00af00\">94080</span>)               │               <span style=\"color: #00af00; text-decoration-color: #00af00\">0</span> │\n",
              "├──────────────────────────────────────┼─────────────────────────────┼─────────────────┤\n",
              "│ dropout (<span style=\"color: #0087ff; text-decoration-color: #0087ff\">Dropout</span>)                    │ (<span style=\"color: #00d7ff; text-decoration-color: #00d7ff\">None</span>, <span style=\"color: #00af00; text-decoration-color: #00af00\">94080</span>)               │               <span style=\"color: #00af00; text-decoration-color: #00af00\">0</span> │\n",
              "├──────────────────────────────────────┼─────────────────────────────┼─────────────────┤\n",
              "│ dense (<span style=\"color: #0087ff; text-decoration-color: #0087ff\">Dense</span>)                        │ (<span style=\"color: #00d7ff; text-decoration-color: #00d7ff\">None</span>, <span style=\"color: #00af00; text-decoration-color: #00af00\">64</span>)                  │       <span style=\"color: #00af00; text-decoration-color: #00af00\">6,021,184</span> │\n",
              "├──────────────────────────────────────┼─────────────────────────────┼─────────────────┤\n",
              "│ dense_1 (<span style=\"color: #0087ff; text-decoration-color: #0087ff\">Dense</span>)                      │ (<span style=\"color: #00d7ff; text-decoration-color: #00d7ff\">None</span>, <span style=\"color: #00af00; text-decoration-color: #00af00\">2</span>)                   │             <span style=\"color: #00af00; text-decoration-color: #00af00\">130</span> │\n",
              "└──────────────────────────────────────┴─────────────────────────────┴─────────────────┘\n",
              "</pre>\n"
            ]
          },
          "metadata": {}
        },
        {
          "output_type": "display_data",
          "data": {
            "text/plain": [
              "\u001b[1m Total params: \u001b[0m\u001b[38;5;34m24,343,298\u001b[0m (92.86 MB)\n"
            ],
            "text/html": [
              "<pre style=\"white-space:pre;overflow-x:auto;line-height:normal;font-family:Menlo,'DejaVu Sans Mono',consolas,'Courier New',monospace\"><span style=\"font-weight: bold\"> Total params: </span><span style=\"color: #00af00; text-decoration-color: #00af00\">24,343,298</span> (92.86 MB)\n",
              "</pre>\n"
            ]
          },
          "metadata": {}
        },
        {
          "output_type": "display_data",
          "data": {
            "text/plain": [
              "\u001b[1m Trainable params: \u001b[0m\u001b[38;5;34m6,021,314\u001b[0m (22.97 MB)\n"
            ],
            "text/html": [
              "<pre style=\"white-space:pre;overflow-x:auto;line-height:normal;font-family:Menlo,'DejaVu Sans Mono',consolas,'Courier New',monospace\"><span style=\"font-weight: bold\"> Trainable params: </span><span style=\"color: #00af00; text-decoration-color: #00af00\">6,021,314</span> (22.97 MB)\n",
              "</pre>\n"
            ]
          },
          "metadata": {}
        },
        {
          "output_type": "display_data",
          "data": {
            "text/plain": [
              "\u001b[1m Non-trainable params: \u001b[0m\u001b[38;5;34m18,321,984\u001b[0m (69.89 MB)\n"
            ],
            "text/html": [
              "<pre style=\"white-space:pre;overflow-x:auto;line-height:normal;font-family:Menlo,'DejaVu Sans Mono',consolas,'Courier New',monospace\"><span style=\"font-weight: bold\"> Non-trainable params: </span><span style=\"color: #00af00; text-decoration-color: #00af00\">18,321,984</span> (69.89 MB)\n",
              "</pre>\n"
            ]
          },
          "metadata": {}
        }
      ],
      "source": [
        "model = create_densenet201_model()\n",
        "model.summary()"
      ]
    },
    {
      "cell_type": "code",
      "execution_count": 8,
      "metadata": {
        "colab": {
          "base_uri": "https://localhost:8080/"
        },
        "id": "7RB3HeXagIgL",
        "outputId": "a42e89b8-dda9-4b5d-c9fc-38a7a1a9b3ff"
      },
      "outputs": [
        {
          "output_type": "stream",
          "name": "stdout",
          "text": [
            "Epoch 1/20\n",
            "\u001b[1m48/48\u001b[0m \u001b[32m━━━━━━━━━━━━━━━━━━━━\u001b[0m\u001b[37m\u001b[0m \u001b[1m121s\u001b[0m 2s/step - accuracy: 0.6421 - loss: 0.8303 - val_accuracy: 0.8750 - val_loss: 0.3176\n",
            "Epoch 2/20\n",
            "\u001b[1m48/48\u001b[0m \u001b[32m━━━━━━━━━━━━━━━━━━━━\u001b[0m\u001b[37m\u001b[0m \u001b[1m49s\u001b[0m 141ms/step - accuracy: 0.8597 - loss: 0.3079 - val_accuracy: 0.8750 - val_loss: 0.2866\n",
            "Epoch 3/20\n",
            "\u001b[1m48/48\u001b[0m \u001b[32m━━━━━━━━━━━━━━━━━━━━\u001b[0m\u001b[37m\u001b[0m \u001b[1m7s\u001b[0m 144ms/step - accuracy: 0.9037 - loss: 0.2315 - val_accuracy: 0.9468 - val_loss: 0.1706\n",
            "Epoch 4/20\n",
            "\u001b[1m48/48\u001b[0m \u001b[32m━━━━━━━━━━━━━━━━━━━━\u001b[0m\u001b[37m\u001b[0m \u001b[1m8s\u001b[0m 166ms/step - accuracy: 0.9209 - loss: 0.1942 - val_accuracy: 0.9606 - val_loss: 0.1416\n",
            "Epoch 5/20\n",
            "\u001b[1m48/48\u001b[0m \u001b[32m━━━━━━━━━━━━━━━━━━━━\u001b[0m\u001b[37m\u001b[0m \u001b[1m8s\u001b[0m 165ms/step - accuracy: 0.9575 - loss: 0.1218 - val_accuracy: 0.9606 - val_loss: 0.1299\n",
            "Epoch 6/20\n",
            "\u001b[1m48/48\u001b[0m \u001b[32m━━━━━━━━━━━━━━━━━━━━\u001b[0m\u001b[37m\u001b[0m \u001b[1m8s\u001b[0m 169ms/step - accuracy: 0.9677 - loss: 0.0953 - val_accuracy: 0.9630 - val_loss: 0.1058\n",
            "Epoch 7/20\n",
            "\u001b[1m48/48\u001b[0m \u001b[32m━━━━━━━━━━━━━━━━━━━━\u001b[0m\u001b[37m\u001b[0m \u001b[1m10s\u001b[0m 167ms/step - accuracy: 0.9785 - loss: 0.0767 - val_accuracy: 0.9653 - val_loss: 0.0961\n",
            "Epoch 8/20\n",
            "\u001b[1m48/48\u001b[0m \u001b[32m━━━━━━━━━━━━━━━━━━━━\u001b[0m\u001b[37m\u001b[0m \u001b[1m9s\u001b[0m 142ms/step - accuracy: 0.9828 - loss: 0.0601 - val_accuracy: 0.9606 - val_loss: 0.1044\n",
            "Epoch 9/20\n",
            "\u001b[1m48/48\u001b[0m \u001b[32m━━━━━━━━━━━━━━━━━━━━\u001b[0m\u001b[37m\u001b[0m \u001b[1m11s\u001b[0m 165ms/step - accuracy: 0.9813 - loss: 0.0519 - val_accuracy: 0.9583 - val_loss: 0.1219\n",
            "Epoch 10/20\n",
            "\u001b[1m48/48\u001b[0m \u001b[32m━━━━━━━━━━━━━━━━━━━━\u001b[0m\u001b[37m\u001b[0m \u001b[1m9s\u001b[0m 142ms/step - accuracy: 0.9876 - loss: 0.0419 - val_accuracy: 0.9653 - val_loss: 0.0850\n",
            "Epoch 11/20\n",
            "\u001b[1m48/48\u001b[0m \u001b[32m━━━━━━━━━━━━━━━━━━━━\u001b[0m\u001b[37m\u001b[0m \u001b[1m7s\u001b[0m 145ms/step - accuracy: 0.9845 - loss: 0.0448 - val_accuracy: 0.9699 - val_loss: 0.0751\n",
            "Epoch 12/20\n",
            "\u001b[1m48/48\u001b[0m \u001b[32m━━━━━━━━━━━━━━━━━━━━\u001b[0m\u001b[37m\u001b[0m \u001b[1m10s\u001b[0m 145ms/step - accuracy: 0.9944 - loss: 0.0339 - val_accuracy: 0.9630 - val_loss: 0.0882\n",
            "Epoch 13/20\n",
            "\u001b[1m48/48\u001b[0m \u001b[32m━━━━━━━━━━━━━━━━━━━━\u001b[0m\u001b[37m\u001b[0m \u001b[1m11s\u001b[0m 165ms/step - accuracy: 0.9994 - loss: 0.0188 - val_accuracy: 0.9699 - val_loss: 0.0701\n",
            "Epoch 14/20\n",
            "\u001b[1m48/48\u001b[0m \u001b[32m━━━━━━━━━━━━━━━━━━━━\u001b[0m\u001b[37m\u001b[0m \u001b[1m10s\u001b[0m 166ms/step - accuracy: 0.9979 - loss: 0.0228 - val_accuracy: 0.9699 - val_loss: 0.0781\n",
            "Epoch 15/20\n",
            "\u001b[1m48/48\u001b[0m \u001b[32m━━━━━━━━━━━━━━━━━━━━\u001b[0m\u001b[37m\u001b[0m \u001b[1m10s\u001b[0m 166ms/step - accuracy: 0.9934 - loss: 0.0252 - val_accuracy: 0.9699 - val_loss: 0.0704\n",
            "Epoch 16/20\n",
            "\u001b[1m48/48\u001b[0m \u001b[32m━━━━━━━━━━━━━━━━━━━━\u001b[0m\u001b[37m\u001b[0m \u001b[1m7s\u001b[0m 145ms/step - accuracy: 0.9973 - loss: 0.0174 - val_accuracy: 0.9699 - val_loss: 0.0845\n",
            "Epoch 17/20\n",
            "\u001b[1m48/48\u001b[0m \u001b[32m━━━━━━━━━━━━━━━━━━━━\u001b[0m\u001b[37m\u001b[0m \u001b[1m11s\u001b[0m 168ms/step - accuracy: 0.9978 - loss: 0.0181 - val_accuracy: 0.9722 - val_loss: 0.0768\n",
            "Epoch 18/20\n",
            "\u001b[1m48/48\u001b[0m \u001b[32m━━━━━━━━━━━━━━━━━━━━\u001b[0m\u001b[37m\u001b[0m \u001b[1m9s\u001b[0m 143ms/step - accuracy: 0.9998 - loss: 0.0118 - val_accuracy: 0.9676 - val_loss: 0.0722\n",
            "Epoch 19/20\n",
            "\u001b[1m48/48\u001b[0m \u001b[32m━━━━━━━━━━━━━━━━━━━━\u001b[0m\u001b[37m\u001b[0m \u001b[1m10s\u001b[0m 142ms/step - accuracy: 0.9969 - loss: 0.0148 - val_accuracy: 0.9699 - val_loss: 0.0683\n",
            "Epoch 20/20\n",
            "\u001b[1m48/48\u001b[0m \u001b[32m━━━━━━━━━━━━━━━━━━━━\u001b[0m\u001b[37m\u001b[0m \u001b[1m10s\u001b[0m 142ms/step - accuracy: 0.9966 - loss: 0.0158 - val_accuracy: 0.9676 - val_loss: 0.0747\n"
          ]
        }
      ],
      "source": [
        "# **Model Training**\n",
        "hist = model.fit(x_train, y_train, batch_size=32, epochs=20, validation_data=(x_test, y_test))"
      ]
    },
    {
      "cell_type": "code",
      "execution_count": 10,
      "metadata": {
        "colab": {
          "base_uri": "https://localhost:8080/",
          "height": 803
        },
        "id": "wiOr_ZpqgJw9",
        "outputId": "ff4592d1-940a-4210-b5af-94994934a29e"
      },
      "outputs": [
        {
          "output_type": "display_data",
          "data": {
            "text/plain": [
              "<Figure size 400x400 with 1 Axes>"
            ],
            "image/png": "[encoded data removed]"
          },
          "metadata": {}
        },
        {
          "output_type": "display_data",
          "data": {
            "text/plain": [
              "<Figure size 400x400 with 1 Axes>"
            ],
            "image/png": "[encoded data removed]"
          },
          "metadata": {}
        }
      ],
      "source": [
        "# **Visualization of Training History**\n",
        "plt.figure(figsize=(4, 4))\n",
        "plt.plot(hist.history['accuracy'], label='Train Accuracy')\n",
        "plt.plot(hist.history['val_accuracy'], label='Test Accuracy')\n",
        "plt.title('Model Accuracy')\n",
        "plt.xlabel('Epochs')\n",
        "plt.ylabel('Accuracy')\n",
        "plt.legend(loc=\"upper left\")\n",
        "plt.show()\n",
        "\n",
        "plt.figure(figsize=(4, 4))\n",
        "plt.plot(hist.history['loss'], label='Train Loss')\n",
        "plt.plot(hist.history['val_loss'], label='Test Loss')\n",
        "plt.title('Model Loss')\n",
        "plt.xlabel('Epochs')\n",
        "plt.ylabel('Loss')\n",
        "plt.legend(loc=\"upper left\")\n",
        "plt.show()\n"
      ]
    },
    {
      "cell_type": "code",
      "execution_count": 11,
      "metadata": {
        "colab": {
          "base_uri": "https://localhost:8080/"
        },
        "id": "zkTDUNQtgiBp",
        "outputId": "63e4b7f8-c177-4180-daeb-d53e3d3247b5"
      },
      "outputs": [
        {
          "output_type": "stream",
          "name": "stdout",
          "text": [
            "\u001b[1m14/14\u001b[0m \u001b[32m━━━━━━━━━━━━━━━━━━━━\u001b[0m\u001b[37m\u001b[0m \u001b[1m41s\u001b[0m 2s/step\n",
            "              precision    recall  f1-score   support\n",
            "\n",
            "           0       0.95      0.99      0.97       216\n",
            "           1       0.99      0.94      0.97       216\n",
            "\n",
            "    accuracy                           0.97       432\n",
            "   macro avg       0.97      0.97      0.97       432\n",
            "weighted avg       0.97      0.97      0.97       432\n",
            "\n"
          ]
        }
      ],
      "source": [
        "# **Evaluation**\n",
        "ypred = model.predict(x_test)\n",
        "ypred = np.argmax(ypred, axis=1)\n",
        "y_test_pred = np.argmax(y_test, axis=1)\n",
        "print(classification_report(y_test_pred, ypred))"
      ]
    },
    {
      "cell_type": "code",
      "execution_count": 12,
      "metadata": {
        "colab": {
          "base_uri": "https://localhost:8080/",
          "height": 468
        },
        "id": "Ua77ZbE0gk6u",
        "outputId": "7e3a2b64-5a7e-426b-a6ad-e7f0a2e9a7c0"
      },
      "outputs": [
        {
          "output_type": "display_data",
          "data": {
            "text/plain": [
              "<Figure size 500x500 with 2 Axes>"
            ],
            "image/png": "[encoded data removed]"
          },
          "metadata": {}
        }
      ],
      "source": [
        "# **Confusion Matrix**\n",
        "matrix = confusion_matrix(y_test_pred, ypred)\n",
        "df_cm = pd.DataFrame(matrix, index=['Healthy', 'Parkinson'], columns=['Healthy', 'Parkinson'])\n",
        "plt.figure(figsize=(5, 5))\n",
        "sns.heatmap(df_cm, annot=True, fmt='d')\n",
        "plt.title('Confusion Matrix')\n",
        "plt.show()\n"
      ]
    },
    {
      "cell_type": "code",
      "execution_count": null,
      "metadata": {
        "id": "DOUNLR_tgn5n"
      },
      "outputs": [],
      "source": [
        "# **Testing with Sample Images**\n",
        "labels = ['Healthy', 'Parkinson']\n",
        "image_healthy = cv2.imread('Parkinson_disease_detection/test_image_healthy.png')\n",
        "image_parkinson = cv2.imread('Parkinson_disease_detection/test_image_parkinson.png')\n",
        "\n",
        "def prepare_image(image):\n",
        "    image = cv2.resize(image, (224, 224))\n",
        "    image = cv2.cvtColor(image, cv2.COLOR_BGR2RGB)\n",
        "    image = np.array(image) / 255.0\n",
        "    image = np.expand_dims(image, axis=0)\n",
        "    return image\n"
      ]
    },
    {
      "cell_type": "code",
      "execution_count": null,
      "metadata": {
        "id": "IUE6tTwDgqeT"
      },
      "outputs": [],
      "source": [
        "image_healthy_prepared = prepare_image(image_healthy)\n",
        "image_parkinson_prepared = prepare_image(image_parkinson)\n",
        "\n",
        "ypred_healthy = model.predict(image_healthy_prepared)\n",
        "ypred_parkinson = model.predict(image_parkinson_prepared)\n"
      ]
    },
    {
      "cell_type": "code",
      "execution_count": null,
      "metadata": {
        "id": "wEN4Puy0guqR"
      },
      "outputs": [],
      "source": [
        "plt.figure(figsize=(2, 2))\n",
        "plt.imshow(image_healthy_prepared[0])\n",
        "plt.axis('off')\n",
        "plt.title(f'Prediction: {labels[np.argmax(ypred_healthy[0])]}')\n",
        "plt.show()"
      ]
    },
    {
      "cell_type": "code",
      "execution_count": null,
      "metadata": {
        "id": "reWKe9hngv2A"
      },
      "outputs": [],
      "source": [
        "plt.figure(figsize=(2, 2))\n",
        "plt.imshow(image_parkinson_prepared[0])\n",
        "plt.axis('off')\n",
        "plt.title(f'Prediction: {labels[np.argmax(ypred_parkinson[0])]}')\n",
        "plt.show()"
      ]
    },
    {
      "cell_type": "code",
      "execution_count": null,
      "metadata": {
        "id": "mg08ngBygvtf"
      },
      "outputs": [],
      "source": [
        "model.save('parkinson_disease_detection_densenet201.h5')"
      ]
    }
  ],
  "metadata": {
    "accelerator": "GPU",
    "colab": {
      "gpuType": "T4",
      "provenance": []
    },
    "kernelspec": {
      "display_name": "Python 3",
      "name": "python3"
    },
    "language_info": {
      "codemirror_mode": {
        "name": "ipython",
        "version": 3
      },
      "file_extension": ".py",
      "mimetype": "text/x-python",
      "name": "python",
      "nbconvert_exporter": "python",
      "pygments_lexer": "ipython3",
      "version": "3.11.9"
    }
  },
  "nbformat": 4,
  "nbformat_minor": 0
}